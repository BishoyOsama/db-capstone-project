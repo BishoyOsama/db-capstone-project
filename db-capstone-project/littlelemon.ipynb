{
 "cells": [
  {
   "cell_type": "code",
   "execution_count": 1,
   "metadata": {},
   "outputs": [],
   "source": [
    "import mysql.connector as connector"
   ]
  },
  {
   "cell_type": "code",
   "execution_count": 2,
   "metadata": {},
   "outputs": [],
   "source": [
    "connection=connector.connect(user=\"Bisho\",password=\"Man01281727743\", db=\"littlelemondb\")"
   ]
  },
  {
   "cell_type": "code",
   "execution_count": 3,
   "metadata": {},
   "outputs": [],
   "source": [
    "cursor= connection.cursor()"
   ]
  },
  {
   "cell_type": "code",
   "execution_count": 4,
   "metadata": {},
   "outputs": [],
   "source": [
    "cursor.execute(\"SHOW TABLES\")"
   ]
  },
  {
   "cell_type": "code",
   "execution_count": 5,
   "metadata": {},
   "outputs": [
    {
     "name": "stdout",
     "output_type": "stream",
     "text": [
      "[('bookings',), ('customers',), ('deliverystatus',), ('menuitems',), ('menus',), ('orders',), ('ordersview',), ('staff',)]\n"
     ]
    }
   ],
   "source": [
    "result_tables= cursor.fetchall()\n",
    "print(result_tables)"
   ]
  },
  {
   "cell_type": "markdown",
   "metadata": {},
   "source": [
    "AddBooking"
   ]
  },
  {
   "cell_type": "code",
   "execution_count": 12,
   "metadata": {},
   "outputs": [],
   "source": [
    "call_addbooking= \"\"\"CALL AddBooking(99,1,99,'2022-12-10')\"\"\""
   ]
  },
  {
   "cell_type": "code",
   "execution_count": 13,
   "metadata": {},
   "outputs": [],
   "source": [
    "cursor.execute(call_addbooking)"
   ]
  },
  {
   "cell_type": "code",
   "execution_count": 16,
   "metadata": {},
   "outputs": [],
   "source": [
    "booking_stmt= \"\"\"SELECT * FROM bookings\"\"\""
   ]
  },
  {
   "cell_type": "code",
   "execution_count": 17,
   "metadata": {},
   "outputs": [],
   "source": [
    "cursor.execute(booking_stmt)"
   ]
  },
  {
   "cell_type": "code",
   "execution_count": 18,
   "metadata": {},
   "outputs": [
    {
     "name": "stdout",
     "output_type": "stream",
     "text": [
      "('BookingID', 'TableNo', 'CustomerID', 'Time', 'StaffID', 'BookingDate')\n",
      "(1, 5, 1, '21:00:00', 2, datetime.date(2022, 10, 10))\n",
      "(2, 3, 3, '14:00:00', 5, datetime.date(2022, 11, 12))\n",
      "(3, 2, 2, '16:00:00', 4, datetime.date(2022, 10, 11))\n",
      "(4, 2, 1, '17:30:00', 6, datetime.date(2022, 10, 13))\n",
      "(13, 12, 1, '19:00:00', 1, None)\n",
      "(14, 12, 4, '19:00:00', 1, None)\n",
      "(15, 19, 5, '15:00:00', 3, None)\n",
      "(16, 15, 2, '17:30:00', 4, None)\n",
      "(17, 5, 3, '18:30:00', 2, None)\n",
      "(18, 8, 6, '20:00:00', 5, None)\n",
      "(19, 6, 2, '19:00:00', 1, datetime.date(2022, 12, 17))\n",
      "(99, 99, 1, '19:00:00', 1, datetime.date(2022, 12, 10))\n"
     ]
    }
   ],
   "source": [
    "booking_stmt_result= cursor.fetchall()\n",
    "booking_stmt_columns= cursor.column_names\n",
    "print(booking_stmt_columns)\n",
    "for record in booking_stmt_result:\n",
    "    print(record)"
   ]
  },
  {
   "cell_type": "markdown",
   "metadata": {},
   "source": [
    "UpdateBooking"
   ]
  },
  {
   "cell_type": "code",
   "execution_count": 19,
   "metadata": {},
   "outputs": [],
   "source": [
    "call_updatebooking= \"\"\"CALL UpdateBooking(99,'2022-1-10')\"\"\""
   ]
  },
  {
   "cell_type": "code",
   "execution_count": 20,
   "metadata": {},
   "outputs": [],
   "source": [
    "cursor.execute(call_updatebooking)"
   ]
  },
  {
   "cell_type": "code",
   "execution_count": 21,
   "metadata": {},
   "outputs": [],
   "source": [
    "cursor.execute(booking_stmt)"
   ]
  },
  {
   "cell_type": "code",
   "execution_count": 22,
   "metadata": {},
   "outputs": [
    {
     "name": "stdout",
     "output_type": "stream",
     "text": [
      "('BookingID', 'TableNo', 'CustomerID', 'Time', 'StaffID', 'BookingDate')\n",
      "(1, 5, 1, '21:00:00', 2, datetime.date(2022, 10, 10))\n",
      "(2, 3, 3, '14:00:00', 5, datetime.date(2022, 11, 12))\n",
      "(3, 2, 2, '16:00:00', 4, datetime.date(2022, 10, 11))\n",
      "(4, 2, 1, '17:30:00', 6, datetime.date(2022, 10, 13))\n",
      "(13, 12, 1, '19:00:00', 1, None)\n",
      "(14, 12, 4, '19:00:00', 1, None)\n",
      "(15, 19, 5, '15:00:00', 3, None)\n",
      "(16, 15, 2, '17:30:00', 4, None)\n",
      "(17, 5, 3, '18:30:00', 2, None)\n",
      "(18, 8, 6, '20:00:00', 5, None)\n",
      "(19, 6, 2, '19:00:00', 1, datetime.date(2022, 12, 17))\n",
      "(99, 99, 1, '19:00:00', 1, datetime.date(2022, 1, 10))\n"
     ]
    }
   ],
   "source": [
    "updated_results= cursor.fetchall()\n",
    "col= cursor.column_names\n",
    "print(col)\n",
    "for record in updated_results:\n",
    "    print(record)"
   ]
  },
  {
   "cell_type": "markdown",
   "metadata": {},
   "source": [
    "CancelBooking"
   ]
  },
  {
   "cell_type": "code",
   "execution_count": 32,
   "metadata": {},
   "outputs": [],
   "source": [
    "call_cancelbooking= \"\"\"CALL CancelBooking(99)\"\"\""
   ]
  },
  {
   "cell_type": "code",
   "execution_count": 33,
   "metadata": {},
   "outputs": [],
   "source": [
    "cursor.execute(call_cancelbooking)"
   ]
  },
  {
   "cell_type": "code",
   "execution_count": 34,
   "metadata": {},
   "outputs": [],
   "source": [
    "cursor.execute(booking_stmt)"
   ]
  },
  {
   "cell_type": "code",
   "execution_count": 35,
   "metadata": {},
   "outputs": [
    {
     "name": "stdout",
     "output_type": "stream",
     "text": [
      "('BookingID', 'TableNo', 'CustomerID', 'Time', 'StaffID', 'BookingDate')\n",
      "(1, 5, 1, '21:00:00', 2, datetime.date(2022, 10, 10))\n",
      "(2, 3, 3, '14:00:00', 5, datetime.date(2022, 11, 12))\n",
      "(3, 2, 2, '16:00:00', 4, datetime.date(2022, 10, 11))\n",
      "(4, 2, 1, '17:30:00', 6, datetime.date(2022, 10, 13))\n",
      "(13, 12, 1, '19:00:00', 1, None)\n",
      "(14, 12, 4, '19:00:00', 1, None)\n",
      "(15, 19, 5, '15:00:00', 3, None)\n",
      "(16, 15, 2, '17:30:00', 4, None)\n",
      "(17, 5, 3, '18:30:00', 2, None)\n",
      "(18, 8, 6, '20:00:00', 5, None)\n",
      "(19, 6, 2, '19:00:00', 1, datetime.date(2022, 12, 17))\n"
     ]
    }
   ],
   "source": [
    "updated_after_cancellation_results= cursor.fetchall()\n",
    "columns= cursor.column_names\n",
    "print(columns)\n",
    "for record in updated_after_cancellation_results:\n",
    "    print(record)"
   ]
  }
 ],
 "metadata": {
  "kernelspec": {
   "display_name": "Python 3",
   "language": "python",
   "name": "python3"
  },
  "language_info": {
   "codemirror_mode": {
    "name": "ipython",
    "version": 3
   },
   "file_extension": ".py",
   "mimetype": "text/x-python",
   "name": "python",
   "nbconvert_exporter": "python",
   "pygments_lexer": "ipython3",
   "version": "3.7.7"
  }
 },
 "nbformat": 4,
 "nbformat_minor": 2
}
